{
 "cells": [
  {
   "cell_type": "code",
   "execution_count": 11,
   "metadata": {},
   "outputs": [
    {
     "name": "stdout",
     "output_type": "stream",
     "text": [
      "enter the sentence you want to analyzethis is thw perfect place\n",
      "tags:\n",
      " [('this', 'DT'), ('is', 'VBZ'), ('thw', 'JJ'), ('perfect', 'JJ'), ('place', 'NN')]\n",
      "data:\n",
      " ['this', 'is', 'thw', 'perfect', 'place']\n",
      "sentiment:\n",
      " Sentiment(polarity=1.0, subjectivity=1.0)\n",
      "after correnction the sentence is :\n",
      " this is the perfect place\n"
     ]
    }
   ],
   "source": [
    "from textblob import TextBlob\n",
    "#sentence=\"i will be a good programmer one day\"\n",
    "sentence=input(\"enter the sentence you want to analyze\")\n",
    "data=TextBlob(sentence)\n",
    "print(\"tags:\\n\",data.tags)\n",
    "print(\"data:\\n\",data.words)\n",
    "print(\"sentiment:\\n\",data.sentiment)\n",
    "print(\"after correnction the sentence is :\\n\",data.correct())\n"
   ]
  },
  {
   "cell_type": "code",
   "execution_count": null,
   "metadata": {},
   "outputs": [],
   "source": []
  },
  {
   "cell_type": "code",
   "execution_count": null,
   "metadata": {},
   "outputs": [],
   "source": []
  }
 ],
 "metadata": {
  "kernelspec": {
   "display_name": "Python 3",
   "language": "python",
   "name": "python3"
  },
  "language_info": {
   "codemirror_mode": {
    "name": "ipython",
    "version": 3
   },
   "file_extension": ".py",
   "mimetype": "text/x-python",
   "name": "python",
   "nbconvert_exporter": "python",
   "pygments_lexer": "ipython3",
   "version": "3.7.4"
  }
 },
 "nbformat": 4,
 "nbformat_minor": 2
}
