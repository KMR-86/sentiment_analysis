{
 "cells": [
  {
   "cell_type": "code",
   "execution_count": 11,
   "metadata": {},
   "outputs": [
    {
     "name": "stdout",
     "output_type": "stream",
     "text": [
      "tags:\n",
      " [('আমার', 'JJ'), ('সোনার', 'NNP'), ('বাংলা', 'NNP'), ('আমি', 'NNP'), ('তোমায়', 'NNP'), ('ভালোবাসি', 'NN')]\n",
      "data:\n",
      " ['আমার', 'সোনার', 'বাংলা', 'আমি', 'তোমায়', 'ভালোবাসি']\n",
      "sentiment:\n",
      " Sentiment(polarity=0.0, subjectivity=0.0)\n",
      "after correnction the sentence is :\n",
      " ofার সোনার বাংলা, ofি তোমায় ভালোবাসি\n",
      "bn\n",
      "translation:  My gold bangla, i love you\n",
      "Sentiment(polarity=0.5, subjectivity=0.6)\n"
     ]
    }
   ],
   "source": [
    "from textblob import TextBlob\n",
    "sentence=\"আমার সোনার বাংলা, আমি তোমায় ভালোবাসি\"\n",
    "#sentence=input(\"enter the sentence you want to analyze\")\n",
    "data=TextBlob(sentence)\n",
    "print(\"tags:\\n\",data.tags)\n",
    "print(\"data:\\n\",data.words)\n",
    "print(\"sentiment:\\n\",data.sentiment)\n",
    "print(\"after correnction the sentence is :\\n\",data.correct())\n",
    "print(data.detect_language())\n",
    "if data.detect_language()=='bn':\n",
    "    eng_trans=data.translate(from_lang=\"bn\",to='en')\n",
    "    eng_data=TextBlob(str(eng_trans))\n",
    "    print(\"translation: \",eng_trans)\n",
    "    print(eng_data.sentiment)\n",
    "    "
   ]
  },
  {
   "cell_type": "code",
   "execution_count": null,
   "metadata": {},
   "outputs": [],
   "source": []
  },
  {
   "cell_type": "code",
   "execution_count": null,
   "metadata": {},
   "outputs": [],
   "source": []
  }
 ],
 "metadata": {
  "kernelspec": {
   "display_name": "Python 3",
   "language": "python",
   "name": "python3"
  },
  "language_info": {
   "codemirror_mode": {
    "name": "ipython",
    "version": 3
   },
   "file_extension": ".py",
   "mimetype": "text/x-python",
   "name": "python",
   "nbconvert_exporter": "python",
   "pygments_lexer": "ipython3",
   "version": "3.7.4"
  }
 },
 "nbformat": 4,
 "nbformat_minor": 2
}
